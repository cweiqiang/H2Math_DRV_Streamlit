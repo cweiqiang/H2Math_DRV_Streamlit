{
  "nbformat": 4,
  "nbformat_minor": 0,
  "metadata": {
    "colab": {
      "name": "Copy of Discrete-Random-Variables.ipynb",
      "provenance": [],
      "collapsed_sections": []
    },
    "kernelspec": {
      "name": "python3",
      "display_name": "Python 3"
    }
  },
  "cells": [
    {
      "cell_type": "markdown",
      "source": [
        "# Discrete Random Variables - Visualisation and Analysis\n",
        "\n",
        "This IPython notebook application allows you to key in the *probability density function* (p.d.f) of any *discrete random variable* (d.r.v) $X$, for instance:"
      ],
      "metadata": {
        "id": "SViCu8wgsiDc"
      }
    },
    {
      "cell_type": "markdown",
      "source": [
        "<table>\n",
        "<tr>\n",
        "<th> $x$ </th>\n",
        "<th> 1 </th>\n",
        "<th> 2 </th>\n",
        "<th> 3 </th>\n",
        "<th> 4 </th>\n",
        "</tr>\n",
        "<tr>\n",
        "<td>$P(X=x)$</td>\n",
        "<td> 0.125 </td>\n",
        "<td> 0.375 </td>\n",
        "<td> 0.375 </td>\n",
        "<td> 0.125 </td>\n",
        "</tr>\n",
        "</table>"
      ],
      "metadata": {
        "id": "v49IetVOtZrg"
      }
    },
    {
      "cell_type": "markdown",
      "source": [
        "You will then be automatically generated a statistical dashboard for visualisation and analysis! This statisical dashboard includes:\n",
        "\n",
        "- Plot for the *probability density function* (p.d.f) of $X$:  $f(x)=P(X=x)$ \n",
        "- Plot for the *probability cumulative function* (c.d.f) of $X$: $F(x)=P(X \\leq x)$ \n",
        "- *Expectation* of $X$: $\\mu=E(X)=\\sum_{x} xP(X=x)$\n",
        "- *Variance* of $X$: $\\sigma^{2}=Var(X)=E\\left[ (X-\\mu)^{2} \\right]$, where $\\sigma$ is the standard deviation (S.D.)\n",
        "- *Mode* of $X$: the integer $r$ for which $P(X=r)$ is the largest\n",
        "- *Median* of $X$: the smallest integer $Q_{2}$ for which $F(Q_{2})\\geq 0.5$ \n",
        "- *1st and 3rd Quartiles*: smallest integers $Q_{1},Q_{3}$ such that $F(Q_{1})\\geq 0.25$ and $F(Q_{3})\\geq 0.75$\n",
        "- *Interquartile Range* (IQR): $IQR=Q_{3}-Q_{1}$, and is also used as a measure for the spread of values, similar to  standard deviation."
      ],
      "metadata": {
        "id": "CLxl-UPXuRB_"
      }
    },
    {
      "cell_type": "markdown",
      "source": [
        "You can also apply any arbitary function $g$ on $X$ to get another d.r.v. to experiment.\n",
        "\n",
        "Scroll down and have fun exploring! \n",
        "\n",
        "\n",
        "Click on the code snippets below and then \n",
        "- press the *'play'* buttons or \n",
        "- *'Clrt+Enter'* \n",
        "\n",
        "in order to run the Python code snippets.\n",
        "\n"
      ],
      "metadata": {
        "id": "8Ha5KcXqucfx"
      }
    },
    {
      "cell_type": "markdown",
      "source": [
        "**IMPORTANT!** Run the first two code snippets below to importing Python packages before scrolling further."
      ],
      "metadata": {
        "id": "gF6fu1TQCYVU"
      }
    },
    {
      "cell_type": "code",
      "source": [
        "#@title\n",
        "from IPython.display import Math, HTML, Latex\n",
        "def enable_sympy_in_cell():\n",
        "  display(HTML(\"<script src='https://cdnjs.cloudflare.com/ajax/libs/\"\n",
        "               \"mathjax/2.7.3/latest.js?config=default'></script>\"))\n",
        "get_ipython().events.register('pre_run_cell', enable_sympy_in_cell)"
      ],
      "metadata": {
        "id": "J2qlfOwn-D5a",
        "cellView": "form"
      },
      "execution_count": null,
      "outputs": []
    },
    {
      "cell_type": "code",
      "source": [
        "#@title\n",
        "import pandas as pd\n",
        "import numpy as np\n",
        "import sympy\n",
        "from sympy import sin, cos, tan, exp, log, symbols, lambdify, sympify, Float, init_printing\n",
        "from fractions import Fraction\n",
        "import matplotlib.pyplot as plt\n",
        "from IPython.display import display\n",
        "import scipy.stats\n",
        "from scipy.stats import binom"
      ],
      "metadata": {
        "colab": {
          "base_uri": "https://localhost:8080/",
          "height": 17
        },
        "cellView": "form",
        "id": "_E34HxRNsQQE",
        "outputId": "a151aca6-7e62-43e1-84ba-4fc65c8f29a7"
      },
      "execution_count": null,
      "outputs": [
        {
          "output_type": "display_data",
          "data": {
            "text/plain": [
              "<IPython.core.display.HTML object>"
            ],
            "text/html": [
              "<script src='https://cdnjs.cloudflare.com/ajax/libs/mathjax/2.7.3/latest.js?config=default'></script>"
            ]
          },
          "metadata": {}
        }
      ]
    },
    {
      "cell_type": "markdown",
      "source": [
        "# [Optional] Generating the p.d.f. of a binomial distribution $B(n,q)$\n",
        "\n",
        "Adjust $n,q$ if you wish to find the p.d.f of a binomial distribution $X$~ $B(n,q)$ for input in Section 1.\n",
        "\n",
        "$P(X=x)= {n \\choose x} q^{x} (1-q)^{n-x}$, where ${n \\choose x}=\\frac{n!}{x! (n-x)!}$, $x=0,1,\\ldots,n$.\n",
        "\n",
        "1. Select a integer for $n$\n",
        "2. Adjust for the required probability $q$\n",
        "3. Run the code snippet below."
      ],
      "metadata": {
        "id": "fikbEEdt9wle"
      }
    },
    {
      "cell_type": "code",
      "source": [
        "# Select a integer for n\n",
        "n = 5 #@param {type:\"slider\", min:2, max:30, step:1}\n",
        "\n",
        "# q: Adjust for the required probability  q\n",
        "q = 0.25 #@param {type:\"slider\", min:0.01, max:1, step:0.01}\n",
        "\n",
        "df0=pd.DataFrame({'x': np.arange(int(n+1)), 'p=P(X=x)': binom.pmf(np.arange(n+1), n, q)}, columns=['x', 'p=P(X=x)'])\n",
        "print(df0.T)"
      ],
      "metadata": {
        "colab": {
          "base_uri": "https://localhost:8080/",
          "height": 69
        },
        "cellView": "form",
        "id": "Ku6YYUk1-Cha",
        "outputId": "72e69c77-4bba-4df2-c0ad-7dc5aae0cd03"
      },
      "execution_count": null,
      "outputs": [
        {
          "output_type": "display_data",
          "data": {
            "text/plain": [
              "<IPython.core.display.HTML object>"
            ],
            "text/html": [
              "<script src='https://cdnjs.cloudflare.com/ajax/libs/mathjax/2.7.3/latest.js?config=default'></script>"
            ]
          },
          "metadata": {}
        },
        {
          "output_type": "stream",
          "name": "stdout",
          "text": [
            "                 0         1         2         3         4         5\n",
            "x         0.000000  1.000000  2.000000  3.000000  4.000000  5.000000\n",
            "p=P(X=x)  0.237305  0.395508  0.263672  0.087891  0.014648  0.000977\n"
          ]
        }
      ]
    },
    {
      "cell_type": "markdown",
      "source": [
        "List of $x$ and $p$ for input in Section 1 (you may copy and paste from here the values of $x$, $p$ and **adding commas \",\"**)."
      ],
      "metadata": {
        "id": "AxNbO671D8S0"
      }
    },
    {
      "cell_type": "markdown",
      "source": [
        "# Section 1: Input values of $x, p$ for D.R.V."
      ],
      "metadata": {
        "id": "97l38Lutvf57"
      }
    },
    {
      "cell_type": "markdown",
      "source": [
        "1. To run the code snippets below\n",
        "  - hover or click on the code snippet\n",
        "  - press the *'play'* buttons on the left of the code snippet or *'Clrt+Enter'*\n",
        "\n",
        "2. Then key in all possible values for $x$ and $p$,\n",
        "3. The possible values for $x$, $p$ keyed in must be comma separated, e.g. 1, 2, 3.\n",
        "3. Press 'Enter' to finalise the input values of $x$ and $p$."
      ],
      "metadata": {
        "id": "Go_ssEvL8R_p"
      }
    },
    {
      "cell_type": "code",
      "source": [
        "#@title\n",
        "raw_input = input(\"Please key in all possible values for x:\")\n",
        "# The possible values for x keyed in must be space-separated, e.g. 1 2 3'\n",
        "str_arr=[s.strip() for s in raw_input.split(',')]\n",
        "\n",
        "X = np.array([float(num) for num in str_arr])\n",
        "print(\"X = \", X)"
      ],
      "metadata": {
        "colab": {
          "base_uri": "https://localhost:8080/",
          "height": 52
        },
        "cellView": "form",
        "id": "L35AZZ0Ssc8H",
        "outputId": "445a6148-2d2f-49c2-b7c3-2297ebbc7df4"
      },
      "execution_count": null,
      "outputs": [
        {
          "output_type": "display_data",
          "data": {
            "text/plain": [
              "<IPython.core.display.HTML object>"
            ],
            "text/html": [
              "<script src='https://cdnjs.cloudflare.com/ajax/libs/mathjax/2.7.3/latest.js?config=default'></script>"
            ]
          },
          "metadata": {}
        },
        {
          "output_type": "stream",
          "name": "stdout",
          "text": [
            "Please key in all possible values for x:0.00000,  1.00000,  2.0000,  3.0000,  4.00000,  5.00000\n",
            "X =  [0. 1. 2. 3. 4. 5.]\n"
          ]
        }
      ]
    },
    {
      "cell_type": "markdown",
      "source": [
        "For the following input of probabilities $p=P(X=x)$, please ensure\n",
        "-  the number of probability values $p$ is equal to the number of input values for $x$ above!\n",
        "- the probabilities values keyed in for $p$ must be comma separated, \n",
        "  - e.g. `1/4, 1/2, 1/4`.\n",
        "- the probabilities values must be in fractional form or decimal form, e.g.\n",
        "  - `1/4, 1/2, 1/4` or \n",
        "  - `0.25, 0.5, 0.25` or \n",
        "  - `1/4, 0.5, 1/4`."
      ],
      "metadata": {
        "id": "w07o4NWpxS_u"
      }
    },
    {
      "cell_type": "code",
      "source": [
        "#@title\n",
        "prob_input = input(\"Input an string of probabilities values for p:\")\n",
        "str_arr2=[pr.strip() for pr in prob_input.split(',')]\n",
        "\n",
        "p=[]\n",
        "for num in str_arr2:\n",
        "  if sympify(sympify(num).is_Float):\n",
        "    p.append(float(Float(num)))\n",
        "  if sympify(sympify(num).is_Rational):\n",
        "    p.append(float(Fraction(num)))\n",
        "p=np.array(p)\n",
        "df3=pd.DataFrame({'x': X, 'P(X=x)': p, 'P(X <= x)':np.cumsum(p)}, columns=['x', 'P(X=x)', 'P(X <= x)'])\n",
        "print(df3.T)"
      ],
      "metadata": {
        "colab": {
          "base_uri": "https://localhost:8080/",
          "height": 104
        },
        "cellView": "form",
        "id": "39uqiPHQwRiX",
        "outputId": "e0f1697e-45ac-4142-cf32-34a88a542000"
      },
      "execution_count": null,
      "outputs": [
        {
          "output_type": "display_data",
          "data": {
            "text/plain": [
              "<IPython.core.display.HTML object>"
            ],
            "text/html": [
              "<script src='https://cdnjs.cloudflare.com/ajax/libs/mathjax/2.7.3/latest.js?config=default'></script>"
            ]
          },
          "metadata": {}
        },
        {
          "output_type": "stream",
          "name": "stdout",
          "text": [
            "Input an string of probabilities values for p: 0.237305,  0.395508,  0.263672,  0.087891,  0.014648,  0.000977\n",
            "                  0         1         2         3         4         5\n",
            "x          0.000000  1.000000  2.000000  3.000000  4.000000  5.000000\n",
            "P(X=x)     0.237305  0.395508  0.263672  0.087891  0.014648  0.000977\n",
            "P(X <= x)  0.237305  0.632813  0.896485  0.984376  0.999024  1.000001\n"
          ]
        }
      ]
    },
    {
      "cell_type": "markdown",
      "source": [
        "Play the code snippet below to check whether the sum of input probabilities $p$ add up to 1, before proceeding to Section 2."
      ],
      "metadata": {
        "id": "zlemIF2K9QTS"
      }
    },
    {
      "cell_type": "code",
      "source": [
        "#@title\n",
        "eps=1e-5\n",
        "if np.abs(1-np.sum(p))>eps:\n",
        "  print('The probabilities values should add up to 1, please check and re-enter the values for p above.')\n",
        "else:\n",
        "  print('The sum of probabilities add up to 1, you are good to proceed!')"
      ],
      "metadata": {
        "colab": {
          "base_uri": "https://localhost:8080/",
          "height": 34
        },
        "cellView": "form",
        "id": "SDVpDFMMz3pM",
        "outputId": "bb250cdc-cdb4-4a20-8a7b-f72bcd8e9a7b"
      },
      "execution_count": null,
      "outputs": [
        {
          "output_type": "display_data",
          "data": {
            "text/plain": [
              "<IPython.core.display.HTML object>"
            ],
            "text/html": [
              "<script src='https://cdnjs.cloudflare.com/ajax/libs/mathjax/2.7.3/latest.js?config=default'></script>"
            ]
          },
          "metadata": {}
        },
        {
          "output_type": "stream",
          "name": "stdout",
          "text": [
            "The sum of probabilities add up to 1, you are good to proceed!\n"
          ]
        }
      ]
    },
    {
      "cell_type": "markdown",
      "source": [
        "# Section 2: Data Visualisation and Analysis\n",
        "\n",
        "The following is a statisical dashboard for visualisation and analysis.\n",
        "\n",
        "1. To run the code snippets below to see the visualisations\n",
        "  - hover or click on the code snippet\n",
        "  - press the *'play'* buttons on the left of the code snippet or *'Clrt+Enter'* \n"
      ],
      "metadata": {
        "id": "r8R-ow7_1svG"
      }
    },
    {
      "cell_type": "code",
      "source": [
        "#@title\n",
        "# Calculation of Expectation, Variance, Standard Deviation, Mode, Median,\n",
        "# quartiles, and interquartile range\n",
        "Expectation=np.sum(np.multiply(X,p))\n",
        "Variance=np.sum(np.multiply(np.power(X,2),p))-Expectation**2\n",
        "Std_Dev=np.power(Variance,0.5)\n",
        "epsilon=1e-5\n",
        "# Mode\n",
        "mode_index=np.argmax(p)\n",
        "Mode=X[mode_index]\n",
        "\n",
        "# Median (Q2)\n",
        "median_index=np.argmax(np.reciprocal(np.cumsum(p)-0.5+epsilon))\n",
        "Median=X[median_index]\n",
        "\n",
        "# Quartile1 (Q1)\n",
        "Q1_index=np.argmax(np.reciprocal(np.cumsum(p)-0.25+epsilon))\n",
        "Quartile1=X[Q1_index]\n",
        "# Quartile3 (Q3)\n",
        "Q3_index=np.argmax(np.reciprocal(np.cumsum(p)-0.75+epsilon))\n",
        "Quartile3=X[Q3_index]\n",
        "IQR=Quartile3-Quartile1\n",
        "\n",
        "# Interquartile Range (IQR)\n",
        "IQR=Quartile3-Quartile1\n",
        "\n",
        "# Display Statistics\n",
        "stats_array=np.array([Expectation,Variance,Std_Dev,Mode,Quartile1,Median,Quartile3,IQR]).T\n",
        "stats_col = ['E(X)','Var(X)', 'S.D.', 'Mode', 'Q1', 'Q2 (Median)', 'Q3', 'IQR']\n",
        "df_stats = pd.DataFrame(stats_array, index=stats_col, columns=['Statistics'])\n",
        "df_stats.T"
      ],
      "metadata": {
        "colab": {
          "base_uri": "https://localhost:8080/",
          "height": 81
        },
        "cellView": "form",
        "id": "5Q5KNpBr11af",
        "outputId": "de5723aa-20a3-480f-caf9-3ad60763b6f7"
      },
      "execution_count": null,
      "outputs": [
        {
          "output_type": "display_data",
          "data": {
            "text/plain": [
              "<IPython.core.display.HTML object>"
            ],
            "text/html": [
              "<script src='https://cdnjs.cloudflare.com/ajax/libs/mathjax/2.7.3/latest.js?config=default'></script>"
            ]
          },
          "metadata": {}
        },
        {
          "output_type": "execute_result",
          "data": {
            "text/plain": [
              "                E(X)    Var(X)      S.D.  Mode   Q1  Q2 (Median)   Q3  IQR\n",
              "Statistics  1.250002  0.937503  0.968247   1.0  1.0          1.0  2.0  1.0"
            ],
            "text/html": [
              "\n",
              "  <div id=\"df-4aea4fca-be5c-4ddd-b094-d9b0775811d5\">\n",
              "    <div class=\"colab-df-container\">\n",
              "      <div>\n",
              "<style scoped>\n",
              "    .dataframe tbody tr th:only-of-type {\n",
              "        vertical-align: middle;\n",
              "    }\n",
              "\n",
              "    .dataframe tbody tr th {\n",
              "        vertical-align: top;\n",
              "    }\n",
              "\n",
              "    .dataframe thead th {\n",
              "        text-align: right;\n",
              "    }\n",
              "</style>\n",
              "<table border=\"1\" class=\"dataframe\">\n",
              "  <thead>\n",
              "    <tr style=\"text-align: right;\">\n",
              "      <th></th>\n",
              "      <th>E(X)</th>\n",
              "      <th>Var(X)</th>\n",
              "      <th>S.D.</th>\n",
              "      <th>Mode</th>\n",
              "      <th>Q1</th>\n",
              "      <th>Q2 (Median)</th>\n",
              "      <th>Q3</th>\n",
              "      <th>IQR</th>\n",
              "    </tr>\n",
              "  </thead>\n",
              "  <tbody>\n",
              "    <tr>\n",
              "      <th>Statistics</th>\n",
              "      <td>1.250002</td>\n",
              "      <td>0.937503</td>\n",
              "      <td>0.968247</td>\n",
              "      <td>1.0</td>\n",
              "      <td>1.0</td>\n",
              "      <td>1.0</td>\n",
              "      <td>2.0</td>\n",
              "      <td>1.0</td>\n",
              "    </tr>\n",
              "  </tbody>\n",
              "</table>\n",
              "</div>\n",
              "      <button class=\"colab-df-convert\" onclick=\"convertToInteractive('df-4aea4fca-be5c-4ddd-b094-d9b0775811d5')\"\n",
              "              title=\"Convert this dataframe to an interactive table.\"\n",
              "              style=\"display:none;\">\n",
              "        \n",
              "  <svg xmlns=\"http://www.w3.org/2000/svg\" height=\"24px\"viewBox=\"0 0 24 24\"\n",
              "       width=\"24px\">\n",
              "    <path d=\"M0 0h24v24H0V0z\" fill=\"none\"/>\n",
              "    <path d=\"M18.56 5.44l.94 2.06.94-2.06 2.06-.94-2.06-.94-.94-2.06-.94 2.06-2.06.94zm-11 1L8.5 8.5l.94-2.06 2.06-.94-2.06-.94L8.5 2.5l-.94 2.06-2.06.94zm10 10l.94 2.06.94-2.06 2.06-.94-2.06-.94-.94-2.06-.94 2.06-2.06.94z\"/><path d=\"M17.41 7.96l-1.37-1.37c-.4-.4-.92-.59-1.43-.59-.52 0-1.04.2-1.43.59L10.3 9.45l-7.72 7.72c-.78.78-.78 2.05 0 2.83L4 21.41c.39.39.9.59 1.41.59.51 0 1.02-.2 1.41-.59l7.78-7.78 2.81-2.81c.8-.78.8-2.07 0-2.86zM5.41 20L4 18.59l7.72-7.72 1.47 1.35L5.41 20z\"/>\n",
              "  </svg>\n",
              "      </button>\n",
              "      \n",
              "  <style>\n",
              "    .colab-df-container {\n",
              "      display:flex;\n",
              "      flex-wrap:wrap;\n",
              "      gap: 12px;\n",
              "    }\n",
              "\n",
              "    .colab-df-convert {\n",
              "      background-color: #E8F0FE;\n",
              "      border: none;\n",
              "      border-radius: 50%;\n",
              "      cursor: pointer;\n",
              "      display: none;\n",
              "      fill: #1967D2;\n",
              "      height: 32px;\n",
              "      padding: 0 0 0 0;\n",
              "      width: 32px;\n",
              "    }\n",
              "\n",
              "    .colab-df-convert:hover {\n",
              "      background-color: #E2EBFA;\n",
              "      box-shadow: 0px 1px 2px rgba(60, 64, 67, 0.3), 0px 1px 3px 1px rgba(60, 64, 67, 0.15);\n",
              "      fill: #174EA6;\n",
              "    }\n",
              "\n",
              "    [theme=dark] .colab-df-convert {\n",
              "      background-color: #3B4455;\n",
              "      fill: #D2E3FC;\n",
              "    }\n",
              "\n",
              "    [theme=dark] .colab-df-convert:hover {\n",
              "      background-color: #434B5C;\n",
              "      box-shadow: 0px 1px 3px 1px rgba(0, 0, 0, 0.15);\n",
              "      filter: drop-shadow(0px 1px 2px rgba(0, 0, 0, 0.3));\n",
              "      fill: #FFFFFF;\n",
              "    }\n",
              "  </style>\n",
              "\n",
              "      <script>\n",
              "        const buttonEl =\n",
              "          document.querySelector('#df-4aea4fca-be5c-4ddd-b094-d9b0775811d5 button.colab-df-convert');\n",
              "        buttonEl.style.display =\n",
              "          google.colab.kernel.accessAllowed ? 'block' : 'none';\n",
              "\n",
              "        async function convertToInteractive(key) {\n",
              "          const element = document.querySelector('#df-4aea4fca-be5c-4ddd-b094-d9b0775811d5');\n",
              "          const dataTable =\n",
              "            await google.colab.kernel.invokeFunction('convertToInteractive',\n",
              "                                                     [key], {});\n",
              "          if (!dataTable) return;\n",
              "\n",
              "          const docLinkHtml = 'Like what you see? Visit the ' +\n",
              "            '<a target=\"_blank\" href=https://colab.research.google.com/notebooks/data_table.ipynb>data table notebook</a>'\n",
              "            + ' to learn more about interactive tables.';\n",
              "          element.innerHTML = '';\n",
              "          dataTable['output_type'] = 'display_data';\n",
              "          await google.colab.output.renderOutput(dataTable, element);\n",
              "          const docLink = document.createElement('div');\n",
              "          docLink.innerHTML = docLinkHtml;\n",
              "          element.appendChild(docLink);\n",
              "        }\n",
              "      </script>\n",
              "    </div>\n",
              "  </div>\n",
              "  "
            ]
          },
          "metadata": {},
          "execution_count": 32
        }
      ]
    },
    {
      "cell_type": "code",
      "source": [
        "#@title\n",
        "# Using Matplotlib for Barplots of p.d.f and c.d.f. of random variable X\n",
        "fig, (ax1,ax2) = plt.subplots(1, 2)\n",
        "ax1.bar(X, p, color='orange', linewidth=2, tick_label=X)\n",
        "ax1.set_title('Plot for p.d.f of X')\n",
        "ax2.bar(X, np.cumsum(p),color='green', linewidth=1, tick_label=X )\n",
        "ax2.set_title('Plot for c.d.f of X')\n",
        "plt.show()"
      ],
      "metadata": {
        "colab": {
          "base_uri": "https://localhost:8080/",
          "height": 281
        },
        "cellView": "form",
        "id": "EtvtzSpt136R",
        "outputId": "96c5b8a3-0440-44e9-d904-e215444b1f7b"
      },
      "execution_count": null,
      "outputs": [
        {
          "output_type": "display_data",
          "data": {
            "text/plain": [
              "<IPython.core.display.HTML object>"
            ],
            "text/html": [
              "<script src='https://cdnjs.cloudflare.com/ajax/libs/mathjax/2.7.3/latest.js?config=default'></script>"
            ]
          },
          "metadata": {}
        },
        {
          "output_type": "display_data",
          "data": {
            "text/plain": [
              "<Figure size 432x288 with 2 Axes>"
            ],
            "image/png": "[encoded data removed]"
          },
          "metadata": {
            "needs_background": "light"
          }
        }
      ]
    },
    {
      "cell_type": "markdown",
      "source": [
        "**Q1**: Comparing the expectation, median and mode of X, what could we conclude about the skewness of this distribution (left or right skewed or symmetrical)?\"\n"
      ],
      "metadata": {
        "id": "zEai_u8x3N8v"
      }
    },
    {
      "cell_type": "markdown",
      "source": [
        "**Suggested Answer to Q1**: \n",
        "\n",
        "If the distribution is not symmetrical, then the mean, mode and median can be used to figure out if you have a left or right-skewed distribution.\n",
        "- If the mean is greater than the mode, the distribution is right-skewed (long-right tailed).\n",
        "- If the mean is less than the mode, the distribution is left-skewed (long-left tailed).\n",
        "- If the mean is greater than the median, the distribution is right-skewed (long-right tailed).\n",
        "- If the mean is less than the median, the distribution is left-skewed (long-left tailed)."
      ],
      "metadata": {
        "id": "6aKQxa3v3mNF"
      }
    },
    {
      "cell_type": "markdown",
      "source": [
        "**Q2**: For this distribution, is standard deviation (S.D.) or interquartile range (IQR) a more appropriate measure for the spread of values?"
      ],
      "metadata": {
        "id": "LOfANeEV3ewt"
      }
    },
    {
      "cell_type": "markdown",
      "source": [
        "**Suggested Answer to Q2**: \n",
        "\n",
        "Both metrics measure the spread of values in a dataset.\n",
        "However, the interquartile range and standard deviation have the following key difference:\n",
        "\n",
        "- The interquartile range (IQR) is not affected by extreme outliers. For example, an extremely small or extremely large value in a dataset will not affect the calculation of the IQR because the IQR only uses the values at the 25th percentile and 75th percentile of the dataset.\n",
        "\n",
        "- The standard deviation is affected by extreme outliers. For example, an extremely large value in a dataset will cause the standard deviation to be much larger since the standard deviation uses every single value in a dataset in its formula.\n",
        "\n",
        "You should use the interquartile range to measure the spread of values in a dataset when there are extreme outliers present."
      ],
      "metadata": {
        "id": "UvVf4u5f3hnz"
      }
    },
    {
      "cell_type": "markdown",
      "source": [
        "# Section 3: Transfoming D.R.V. with functions"
      ],
      "metadata": {
        "id": "TtgHBtOZ3q05"
      }
    },
    {
      "cell_type": "markdown",
      "source": [
        "For the following code snippet, we shall input an expression for function $g$ to perform transformation on the d.r.v. Please ensure \n",
        "\n",
        "- the expression input for $g(x)$ is in terms of $x$, not $X$! It is lettercase sensitive.\n",
        "- Examples of $g(x)$ for input: \n",
        "  - `2*x+1, x**2, exp(x), sin(x), cos(x), log(x)`)\n",
        "- The above examples correspond to  \n",
        "  - $2x+1$, $x^{2}$, $e^{x}$, $\\sin(x)$, $\\cos(x)$, $\\ln(x)$.'"
      ],
      "metadata": {
        "id": "IJYmdAdm4qai"
      }
    },
    {
      "cell_type": "code",
      "source": [
        "#@title\n",
        "x = symbols('x')\n",
        "init_printing(use_latex='mathjax')\n",
        "\n",
        "expr = input(\"Input the expression of g(x)=\")\n",
        "func=sympify(expr)\n",
        "print(\"Input function g(x)=\")\n",
        "display(func)\n",
        "\n",
        "g = lambdify(x, func, 'numpy')"
      ],
      "metadata": {
        "colab": {
          "base_uri": "https://localhost:8080/",
          "height": 73
        },
        "cellView": "form",
        "id": "JK_wDImh4Ets",
        "outputId": "7d5322eb-36c6-4080-f010-e1610da5e7ad"
      },
      "execution_count": null,
      "outputs": [
        {
          "output_type": "display_data",
          "data": {
            "text/plain": [
              "<IPython.core.display.HTML object>"
            ],
            "text/html": [
              "<script src='https://cdnjs.cloudflare.com/ajax/libs/mathjax/2.7.3/latest.js?config=default'></script>"
            ]
          },
          "metadata": {}
        },
        {
          "output_type": "stream",
          "name": "stdout",
          "text": [
            "Input the expression of g(x)=2*x+1\n",
            "Input function g(x)=\n"
          ]
        },
        {
          "output_type": "display_data",
          "data": {
            "text/plain": [
              "2⋅x + 1"
            ],
            "text/latex": "$\\displaystyle 2 x + 1$"
          },
          "metadata": {}
        }
      ]
    },
    {
      "cell_type": "markdown",
      "source": [
        "The P.D.F of $g(X)$ is given as follows:"
      ],
      "metadata": {
        "id": "ltY2hZ3A5HYx"
      }
    },
    {
      "cell_type": "code",
      "source": [
        "#@title\n",
        "df4 = pd.DataFrame({'x': X, 'g(x)': g(X), 'P(X=x)': p}, columns=['x','g(x)', 'P(X=x)'])\n",
        "df4.T"
      ],
      "metadata": {
        "colab": {
          "base_uri": "https://localhost:8080/",
          "height": 143
        },
        "cellView": "form",
        "id": "6xWI_oe85GW3",
        "outputId": "44049234-2b39-46e0-e185-1ab8d997c230"
      },
      "execution_count": null,
      "outputs": [
        {
          "output_type": "display_data",
          "data": {
            "text/plain": [
              "<IPython.core.display.HTML object>"
            ],
            "text/html": [
              "<script src='https://cdnjs.cloudflare.com/ajax/libs/mathjax/2.7.3/latest.js?config=default'></script>"
            ]
          },
          "metadata": {}
        },
        {
          "output_type": "execute_result",
          "data": {
            "text/plain": [
              "               0         1         2         3         4          5\n",
              "x       0.000000  1.000000  2.000000  3.000000  4.000000   5.000000\n",
              "g(x)    1.000000  3.000000  5.000000  7.000000  9.000000  11.000000\n",
              "P(X=x)  0.237305  0.395508  0.263672  0.087891  0.014648   0.000977"
            ],
            "text/html": [
              "\n",
              "  <div id=\"df-b268c75c-70db-4e52-9463-59ce727d6776\">\n",
              "    <div class=\"colab-df-container\">\n",
              "      <div>\n",
              "<style scoped>\n",
              "    .dataframe tbody tr th:only-of-type {\n",
              "        vertical-align: middle;\n",
              "    }\n",
              "\n",
              "    .dataframe tbody tr th {\n",
              "        vertical-align: top;\n",
              "    }\n",
              "\n",
              "    .dataframe thead th {\n",
              "        text-align: right;\n",
              "    }\n",
              "</style>\n",
              "<table border=\"1\" class=\"dataframe\">\n",
              "  <thead>\n",
              "    <tr style=\"text-align: right;\">\n",
              "      <th></th>\n",
              "      <th>0</th>\n",
              "      <th>1</th>\n",
              "      <th>2</th>\n",
              "      <th>3</th>\n",
              "      <th>4</th>\n",
              "      <th>5</th>\n",
              "    </tr>\n",
              "  </thead>\n",
              "  <tbody>\n",
              "    <tr>\n",
              "      <th>x</th>\n",
              "      <td>0.000000</td>\n",
              "      <td>1.000000</td>\n",
              "      <td>2.000000</td>\n",
              "      <td>3.000000</td>\n",
              "      <td>4.000000</td>\n",
              "      <td>5.000000</td>\n",
              "    </tr>\n",
              "    <tr>\n",
              "      <th>g(x)</th>\n",
              "      <td>1.000000</td>\n",
              "      <td>3.000000</td>\n",
              "      <td>5.000000</td>\n",
              "      <td>7.000000</td>\n",
              "      <td>9.000000</td>\n",
              "      <td>11.000000</td>\n",
              "    </tr>\n",
              "    <tr>\n",
              "      <th>P(X=x)</th>\n",
              "      <td>0.237305</td>\n",
              "      <td>0.395508</td>\n",
              "      <td>0.263672</td>\n",
              "      <td>0.087891</td>\n",
              "      <td>0.014648</td>\n",
              "      <td>0.000977</td>\n",
              "    </tr>\n",
              "  </tbody>\n",
              "</table>\n",
              "</div>\n",
              "      <button class=\"colab-df-convert\" onclick=\"convertToInteractive('df-b268c75c-70db-4e52-9463-59ce727d6776')\"\n",
              "              title=\"Convert this dataframe to an interactive table.\"\n",
              "              style=\"display:none;\">\n",
              "        \n",
              "  <svg xmlns=\"http://www.w3.org/2000/svg\" height=\"24px\"viewBox=\"0 0 24 24\"\n",
              "       width=\"24px\">\n",
              "    <path d=\"M0 0h24v24H0V0z\" fill=\"none\"/>\n",
              "    <path d=\"M18.56 5.44l.94 2.06.94-2.06 2.06-.94-2.06-.94-.94-2.06-.94 2.06-2.06.94zm-11 1L8.5 8.5l.94-2.06 2.06-.94-2.06-.94L8.5 2.5l-.94 2.06-2.06.94zm10 10l.94 2.06.94-2.06 2.06-.94-2.06-.94-.94-2.06-.94 2.06-2.06.94z\"/><path d=\"M17.41 7.96l-1.37-1.37c-.4-.4-.92-.59-1.43-.59-.52 0-1.04.2-1.43.59L10.3 9.45l-7.72 7.72c-.78.78-.78 2.05 0 2.83L4 21.41c.39.39.9.59 1.41.59.51 0 1.02-.2 1.41-.59l7.78-7.78 2.81-2.81c.8-.78.8-2.07 0-2.86zM5.41 20L4 18.59l7.72-7.72 1.47 1.35L5.41 20z\"/>\n",
              "  </svg>\n",
              "      </button>\n",
              "      \n",
              "  <style>\n",
              "    .colab-df-container {\n",
              "      display:flex;\n",
              "      flex-wrap:wrap;\n",
              "      gap: 12px;\n",
              "    }\n",
              "\n",
              "    .colab-df-convert {\n",
              "      background-color: #E8F0FE;\n",
              "      border: none;\n",
              "      border-radius: 50%;\n",
              "      cursor: pointer;\n",
              "      display: none;\n",
              "      fill: #1967D2;\n",
              "      height: 32px;\n",
              "      padding: 0 0 0 0;\n",
              "      width: 32px;\n",
              "    }\n",
              "\n",
              "    .colab-df-convert:hover {\n",
              "      background-color: #E2EBFA;\n",
              "      box-shadow: 0px 1px 2px rgba(60, 64, 67, 0.3), 0px 1px 3px 1px rgba(60, 64, 67, 0.15);\n",
              "      fill: #174EA6;\n",
              "    }\n",
              "\n",
              "    [theme=dark] .colab-df-convert {\n",
              "      background-color: #3B4455;\n",
              "      fill: #D2E3FC;\n",
              "    }\n",
              "\n",
              "    [theme=dark] .colab-df-convert:hover {\n",
              "      background-color: #434B5C;\n",
              "      box-shadow: 0px 1px 3px 1px rgba(0, 0, 0, 0.15);\n",
              "      filter: drop-shadow(0px 1px 2px rgba(0, 0, 0, 0.3));\n",
              "      fill: #FFFFFF;\n",
              "    }\n",
              "  </style>\n",
              "\n",
              "      <script>\n",
              "        const buttonEl =\n",
              "          document.querySelector('#df-b268c75c-70db-4e52-9463-59ce727d6776 button.colab-df-convert');\n",
              "        buttonEl.style.display =\n",
              "          google.colab.kernel.accessAllowed ? 'block' : 'none';\n",
              "\n",
              "        async function convertToInteractive(key) {\n",
              "          const element = document.querySelector('#df-b268c75c-70db-4e52-9463-59ce727d6776');\n",
              "          const dataTable =\n",
              "            await google.colab.kernel.invokeFunction('convertToInteractive',\n",
              "                                                     [key], {});\n",
              "          if (!dataTable) return;\n",
              "\n",
              "          const docLinkHtml = 'Like what you see? Visit the ' +\n",
              "            '<a target=\"_blank\" href=https://colab.research.google.com/notebooks/data_table.ipynb>data table notebook</a>'\n",
              "            + ' to learn more about interactive tables.';\n",
              "          element.innerHTML = '';\n",
              "          dataTable['output_type'] = 'display_data';\n",
              "          await google.colab.output.renderOutput(dataTable, element);\n",
              "          const docLink = document.createElement('div');\n",
              "          docLink.innerHTML = docLinkHtml;\n",
              "          element.appendChild(docLink);\n",
              "        }\n",
              "      </script>\n",
              "    </div>\n",
              "  </div>\n",
              "  "
            ]
          },
          "metadata": {},
          "execution_count": 35
        }
      ]
    },
    {
      "cell_type": "markdown",
      "source": [
        "Please view and compare the expectations and variances for $g(X)$ and $X$, using the codes below"
      ],
      "metadata": {
        "id": "JpAd6QuE5Wl6"
      }
    },
    {
      "cell_type": "code",
      "source": [
        "#@title\n",
        "Expectation_g=np.sum(np.multiply(g(X),p))\n",
        "Variance_g=np.sum(np.multiply(np.power(g(X),2),p))-Expectation_g**2\n",
        "Std_Dev_g=np.power(Variance_g,0.5)\n",
        "\n",
        "stats_array_g=np.array([Expectation_g,Variance_g,Std_Dev_g]).T\n",
        "stats_col_g = ['E(g(X))','Var(g(X))', 'S.D.']\n",
        "df_stats_g = pd.DataFrame(stats_array_g, index=stats_col_g, columns=['Statistics'])\n",
        "\n",
        "df_stats_g.T"
      ],
      "metadata": {
        "colab": {
          "base_uri": "https://localhost:8080/",
          "height": 81
        },
        "cellView": "form",
        "id": "0WYurbeT5YtE",
        "outputId": "8bc6563d-2b77-41cf-d13b-d1bc4543aedc"
      },
      "execution_count": null,
      "outputs": [
        {
          "output_type": "display_data",
          "data": {
            "text/plain": [
              "<IPython.core.display.HTML object>"
            ],
            "text/html": [
              "<script src='https://cdnjs.cloudflare.com/ajax/libs/mathjax/2.7.3/latest.js?config=default'></script>"
            ]
          },
          "metadata": {}
        },
        {
          "output_type": "execute_result",
          "data": {
            "text/plain": [
              "             E(g(X))  Var(g(X))      S.D.\n",
              "Statistics  3.500005   3.750006  1.936493"
            ],
            "text/html": [
              "\n",
              "  <div id=\"df-6d9e3583-b84f-4e64-9de9-23fdb4449bf0\">\n",
              "    <div class=\"colab-df-container\">\n",
              "      <div>\n",
              "<style scoped>\n",
              "    .dataframe tbody tr th:only-of-type {\n",
              "        vertical-align: middle;\n",
              "    }\n",
              "\n",
              "    .dataframe tbody tr th {\n",
              "        vertical-align: top;\n",
              "    }\n",
              "\n",
              "    .dataframe thead th {\n",
              "        text-align: right;\n",
              "    }\n",
              "</style>\n",
              "<table border=\"1\" class=\"dataframe\">\n",
              "  <thead>\n",
              "    <tr style=\"text-align: right;\">\n",
              "      <th></th>\n",
              "      <th>E(g(X))</th>\n",
              "      <th>Var(g(X))</th>\n",
              "      <th>S.D.</th>\n",
              "    </tr>\n",
              "  </thead>\n",
              "  <tbody>\n",
              "    <tr>\n",
              "      <th>Statistics</th>\n",
              "      <td>3.500005</td>\n",
              "      <td>3.750006</td>\n",
              "      <td>1.936493</td>\n",
              "    </tr>\n",
              "  </tbody>\n",
              "</table>\n",
              "</div>\n",
              "      <button class=\"colab-df-convert\" onclick=\"convertToInteractive('df-6d9e3583-b84f-4e64-9de9-23fdb4449bf0')\"\n",
              "              title=\"Convert this dataframe to an interactive table.\"\n",
              "              style=\"display:none;\">\n",
              "        \n",
              "  <svg xmlns=\"http://www.w3.org/2000/svg\" height=\"24px\"viewBox=\"0 0 24 24\"\n",
              "       width=\"24px\">\n",
              "    <path d=\"M0 0h24v24H0V0z\" fill=\"none\"/>\n",
              "    <path d=\"M18.56 5.44l.94 2.06.94-2.06 2.06-.94-2.06-.94-.94-2.06-.94 2.06-2.06.94zm-11 1L8.5 8.5l.94-2.06 2.06-.94-2.06-.94L8.5 2.5l-.94 2.06-2.06.94zm10 10l.94 2.06.94-2.06 2.06-.94-2.06-.94-.94-2.06-.94 2.06-2.06.94z\"/><path d=\"M17.41 7.96l-1.37-1.37c-.4-.4-.92-.59-1.43-.59-.52 0-1.04.2-1.43.59L10.3 9.45l-7.72 7.72c-.78.78-.78 2.05 0 2.83L4 21.41c.39.39.9.59 1.41.59.51 0 1.02-.2 1.41-.59l7.78-7.78 2.81-2.81c.8-.78.8-2.07 0-2.86zM5.41 20L4 18.59l7.72-7.72 1.47 1.35L5.41 20z\"/>\n",
              "  </svg>\n",
              "      </button>\n",
              "      \n",
              "  <style>\n",
              "    .colab-df-container {\n",
              "      display:flex;\n",
              "      flex-wrap:wrap;\n",
              "      gap: 12px;\n",
              "    }\n",
              "\n",
              "    .colab-df-convert {\n",
              "      background-color: #E8F0FE;\n",
              "      border: none;\n",
              "      border-radius: 50%;\n",
              "      cursor: pointer;\n",
              "      display: none;\n",
              "      fill: #1967D2;\n",
              "      height: 32px;\n",
              "      padding: 0 0 0 0;\n",
              "      width: 32px;\n",
              "    }\n",
              "\n",
              "    .colab-df-convert:hover {\n",
              "      background-color: #E2EBFA;\n",
              "      box-shadow: 0px 1px 2px rgba(60, 64, 67, 0.3), 0px 1px 3px 1px rgba(60, 64, 67, 0.15);\n",
              "      fill: #174EA6;\n",
              "    }\n",
              "\n",
              "    [theme=dark] .colab-df-convert {\n",
              "      background-color: #3B4455;\n",
              "      fill: #D2E3FC;\n",
              "    }\n",
              "\n",
              "    [theme=dark] .colab-df-convert:hover {\n",
              "      background-color: #434B5C;\n",
              "      box-shadow: 0px 1px 3px 1px rgba(0, 0, 0, 0.15);\n",
              "      filter: drop-shadow(0px 1px 2px rgba(0, 0, 0, 0.3));\n",
              "      fill: #FFFFFF;\n",
              "    }\n",
              "  </style>\n",
              "\n",
              "      <script>\n",
              "        const buttonEl =\n",
              "          document.querySelector('#df-6d9e3583-b84f-4e64-9de9-23fdb4449bf0 button.colab-df-convert');\n",
              "        buttonEl.style.display =\n",
              "          google.colab.kernel.accessAllowed ? 'block' : 'none';\n",
              "\n",
              "        async function convertToInteractive(key) {\n",
              "          const element = document.querySelector('#df-6d9e3583-b84f-4e64-9de9-23fdb4449bf0');\n",
              "          const dataTable =\n",
              "            await google.colab.kernel.invokeFunction('convertToInteractive',\n",
              "                                                     [key], {});\n",
              "          if (!dataTable) return;\n",
              "\n",
              "          const docLinkHtml = 'Like what you see? Visit the ' +\n",
              "            '<a target=\"_blank\" href=https://colab.research.google.com/notebooks/data_table.ipynb>data table notebook</a>'\n",
              "            + ' to learn more about interactive tables.';\n",
              "          element.innerHTML = '';\n",
              "          dataTable['output_type'] = 'display_data';\n",
              "          await google.colab.output.renderOutput(dataTable, element);\n",
              "          const docLink = document.createElement('div');\n",
              "          docLink.innerHTML = docLinkHtml;\n",
              "          element.appendChild(docLink);\n",
              "        }\n",
              "      </script>\n",
              "    </div>\n",
              "  </div>\n",
              "  "
            ]
          },
          "metadata": {},
          "execution_count": 36
        }
      ]
    },
    {
      "cell_type": "code",
      "source": [
        "#@title\n",
        "stats_array2=np.array([Expectation,Variance,Std_Dev]).T\n",
        "stats_col2 = ['E(X)','Var(X)', 'S.D']\n",
        "df_stats2 = pd.DataFrame(stats_array2, index=stats_col2, columns=['Statistics'])\n",
        "df_stats2.T"
      ],
      "metadata": {
        "colab": {
          "base_uri": "https://localhost:8080/",
          "height": 81
        },
        "cellView": "form",
        "id": "ZlSY8rMy5z_2",
        "outputId": "8268baca-9274-456c-ed7e-b0d8ce71e6ff"
      },
      "execution_count": null,
      "outputs": [
        {
          "output_type": "display_data",
          "data": {
            "text/plain": [
              "<IPython.core.display.HTML object>"
            ],
            "text/html": [
              "<script src='https://cdnjs.cloudflare.com/ajax/libs/mathjax/2.7.3/latest.js?config=default'></script>"
            ]
          },
          "metadata": {}
        },
        {
          "output_type": "execute_result",
          "data": {
            "text/plain": [
              "                E(X)    Var(X)       S.D\n",
              "Statistics  1.250002  0.937503  0.968247"
            ],
            "text/html": [
              "\n",
              "  <div id=\"df-e8504ab8-1e35-429c-bb27-b3b414b16dd8\">\n",
              "    <div class=\"colab-df-container\">\n",
              "      <div>\n",
              "<style scoped>\n",
              "    .dataframe tbody tr th:only-of-type {\n",
              "        vertical-align: middle;\n",
              "    }\n",
              "\n",
              "    .dataframe tbody tr th {\n",
              "        vertical-align: top;\n",
              "    }\n",
              "\n",
              "    .dataframe thead th {\n",
              "        text-align: right;\n",
              "    }\n",
              "</style>\n",
              "<table border=\"1\" class=\"dataframe\">\n",
              "  <thead>\n",
              "    <tr style=\"text-align: right;\">\n",
              "      <th></th>\n",
              "      <th>E(X)</th>\n",
              "      <th>Var(X)</th>\n",
              "      <th>S.D</th>\n",
              "    </tr>\n",
              "  </thead>\n",
              "  <tbody>\n",
              "    <tr>\n",
              "      <th>Statistics</th>\n",
              "      <td>1.250002</td>\n",
              "      <td>0.937503</td>\n",
              "      <td>0.968247</td>\n",
              "    </tr>\n",
              "  </tbody>\n",
              "</table>\n",
              "</div>\n",
              "      <button class=\"colab-df-convert\" onclick=\"convertToInteractive('df-e8504ab8-1e35-429c-bb27-b3b414b16dd8')\"\n",
              "              title=\"Convert this dataframe to an interactive table.\"\n",
              "              style=\"display:none;\">\n",
              "        \n",
              "  <svg xmlns=\"http://www.w3.org/2000/svg\" height=\"24px\"viewBox=\"0 0 24 24\"\n",
              "       width=\"24px\">\n",
              "    <path d=\"M0 0h24v24H0V0z\" fill=\"none\"/>\n",
              "    <path d=\"M18.56 5.44l.94 2.06.94-2.06 2.06-.94-2.06-.94-.94-2.06-.94 2.06-2.06.94zm-11 1L8.5 8.5l.94-2.06 2.06-.94-2.06-.94L8.5 2.5l-.94 2.06-2.06.94zm10 10l.94 2.06.94-2.06 2.06-.94-2.06-.94-.94-2.06-.94 2.06-2.06.94z\"/><path d=\"M17.41 7.96l-1.37-1.37c-.4-.4-.92-.59-1.43-.59-.52 0-1.04.2-1.43.59L10.3 9.45l-7.72 7.72c-.78.78-.78 2.05 0 2.83L4 21.41c.39.39.9.59 1.41.59.51 0 1.02-.2 1.41-.59l7.78-7.78 2.81-2.81c.8-.78.8-2.07 0-2.86zM5.41 20L4 18.59l7.72-7.72 1.47 1.35L5.41 20z\"/>\n",
              "  </svg>\n",
              "      </button>\n",
              "      \n",
              "  <style>\n",
              "    .colab-df-container {\n",
              "      display:flex;\n",
              "      flex-wrap:wrap;\n",
              "      gap: 12px;\n",
              "    }\n",
              "\n",
              "    .colab-df-convert {\n",
              "      background-color: #E8F0FE;\n",
              "      border: none;\n",
              "      border-radius: 50%;\n",
              "      cursor: pointer;\n",
              "      display: none;\n",
              "      fill: #1967D2;\n",
              "      height: 32px;\n",
              "      padding: 0 0 0 0;\n",
              "      width: 32px;\n",
              "    }\n",
              "\n",
              "    .colab-df-convert:hover {\n",
              "      background-color: #E2EBFA;\n",
              "      box-shadow: 0px 1px 2px rgba(60, 64, 67, 0.3), 0px 1px 3px 1px rgba(60, 64, 67, 0.15);\n",
              "      fill: #174EA6;\n",
              "    }\n",
              "\n",
              "    [theme=dark] .colab-df-convert {\n",
              "      background-color: #3B4455;\n",
              "      fill: #D2E3FC;\n",
              "    }\n",
              "\n",
              "    [theme=dark] .colab-df-convert:hover {\n",
              "      background-color: #434B5C;\n",
              "      box-shadow: 0px 1px 3px 1px rgba(0, 0, 0, 0.15);\n",
              "      filter: drop-shadow(0px 1px 2px rgba(0, 0, 0, 0.3));\n",
              "      fill: #FFFFFF;\n",
              "    }\n",
              "  </style>\n",
              "\n",
              "      <script>\n",
              "        const buttonEl =\n",
              "          document.querySelector('#df-e8504ab8-1e35-429c-bb27-b3b414b16dd8 button.colab-df-convert');\n",
              "        buttonEl.style.display =\n",
              "          google.colab.kernel.accessAllowed ? 'block' : 'none';\n",
              "\n",
              "        async function convertToInteractive(key) {\n",
              "          const element = document.querySelector('#df-e8504ab8-1e35-429c-bb27-b3b414b16dd8');\n",
              "          const dataTable =\n",
              "            await google.colab.kernel.invokeFunction('convertToInteractive',\n",
              "                                                     [key], {});\n",
              "          if (!dataTable) return;\n",
              "\n",
              "          const docLinkHtml = 'Like what you see? Visit the ' +\n",
              "            '<a target=\"_blank\" href=https://colab.research.google.com/notebooks/data_table.ipynb>data table notebook</a>'\n",
              "            + ' to learn more about interactive tables.';\n",
              "          element.innerHTML = '';\n",
              "          dataTable['output_type'] = 'display_data';\n",
              "          await google.colab.output.renderOutput(dataTable, element);\n",
              "          const docLink = document.createElement('div');\n",
              "          docLink.innerHTML = docLinkHtml;\n",
              "          element.appendChild(docLink);\n",
              "        }\n",
              "      </script>\n",
              "    </div>\n",
              "  </div>\n",
              "  "
            ]
          },
          "metadata": {},
          "execution_count": 37
        }
      ]
    },
    {
      "cell_type": "markdown",
      "source": [
        "**Q3**: When $g(X)=aX+b$, what can we say about\n",
        "- $E(aX+b), E(X)$?\n",
        "- $Var(aX+b)$ and $Var(X)$?\n",
        "\n",
        "You may experiment with different values of $a$ and $b$ to vary the input/output of $g(X)=aX+b$ above, e.g. $a,b=0,1,2$.\n",
        "\n",
        "\n",
        "\n"
      ],
      "metadata": {
        "id": "0I4Md6Em3wdW"
      }
    },
    {
      "cell_type": "markdown",
      "source": [
        "**Suggested Answer to Q3**: \n",
        "\n",
        "When $g(X)=aX+b$, where $a,b \\in \\mathbb{R}$, then from the above calculations, we can infer that\n",
        "- $E(aX+b)=aE(X)+b$, \n",
        "- $Var(aX+b)=a^{2}Var(X)$, \n",
        "\n",
        "where it can be checked that \n",
        "\n",
        "- $E(aX)=aE(X), E(b)=b$\n",
        "- $Var(aX)=a^{2}Var(X), Var(b)=0$."
      ],
      "metadata": {
        "id": "sRTxFFgX6Ada"
      }
    }
  ]
}